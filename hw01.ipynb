{
 "cells": [
  {
   "cell_type": "markdown",
   "metadata": {},
   "source": [
    "# Imports"
   ]
  },
  {
   "cell_type": "code",
   "execution_count": 1,
   "metadata": {
    "collapsed": false
   },
   "outputs": [],
   "source": [
    "import numpy as np\n",
    "import sklearn as sk\n",
    "import scipy.io as scio\n",
    "from sklearn.svm import SVC\n",
    "from matplotlib import pyplot as plt\n",
    "import pandas as pd\n",
    "import os\n",
    "\n",
    "from sklearn.feature_extraction.text import TfidfVectorizer\n",
    "from sklearn.model_selection import cross_val_score\n",
    "import re\n",
    "\n",
    "import skimage as skimg\n",
    "from skimage.feature import hog"
   ]
  },
  {
   "cell_type": "markdown",
   "metadata": {},
   "source": [
    "# Data Loading and Partitioning"
   ]
  },
  {
   "cell_type": "code",
   "execution_count": 2,
   "metadata": {
    "collapsed": false
   },
   "outputs": [],
   "source": [
    "def load_dataset(datasetname):\n",
    "    location = 'hw01_data/'\n",
    "    if datasetname == 'mnist':\n",
    "        location = location + datasetname + '/'\n",
    "        train_data = scio.loadmat(location + 'train.mat') #load .mat files in python\n",
    "        test_data = scio.loadmat(location + 'test.mat')\n",
    "\n",
    "        train_data = train_data['trainX']\n",
    "        indices = np.random.permutation(len(train_data))\n",
    "\n",
    "        validation_data = train_data[indices[:10000], :] #First 10000 indices + all columns reserved for validation set\n",
    "        train_data = train_data[indices[10000:], :] #rest i.e (from 10000th row till end) is train set\n",
    "        test_data = test_data['testX']\n",
    "\n",
    "\n",
    "\n",
    "    elif datasetname == 'spam':\n",
    "        location = location + datasetname + '/'\n",
    "        spam_data = scio.loadmat(location + 'spam_data.mat')\n",
    "        train_data = spam_data['training_data']\n",
    "        test_data = spam_data['test_data']\n",
    "        train_labels = spam_data['training_labels']\n",
    "\n",
    "        indices = np.random.permutation(len(train_data))\n",
    "\n",
    "        split_index = int(0.8 * (len(train_data)))\n",
    "\n",
    "        validation_data = train_data[indices[split_index:], :]\n",
    "        train_data = train_data[indices[:split_index], :]\n",
    "        \n",
    "        validation_labels = train_labels[0][indices[split_index:]]\n",
    "        train_labels = train_labels[0][indices[:split_index]]\n",
    "        \n",
    "        ##Let's just compact train and validation to match with the return type\n",
    "        train_data = (train_data,train_labels)\n",
    "        validation_data = (validation_data,validation_labels)\n",
    "\n",
    "    elif datasetname == 'cifar':\n",
    "        location = location + datasetname + '/'\n",
    "        train_data = scio.loadmat(location + 'train.mat')\n",
    "        test_data = scio.loadmat(location + 'test.mat')\n",
    "\n",
    "        train_data = train_data['trainX']\n",
    "        indices = np.random.permutation(len(train_data))\n",
    "\n",
    "        validation_data = train_data[indices[:5000], :]\n",
    "        train_data = train_data[indices[5000:], :]\n",
    "        test_data = test_data['testX']\n",
    "\n",
    "    return train_data, validation_data, test_data"
   ]
  },
  {
   "cell_type": "markdown",
   "metadata": {},
   "source": [
    "# Training a Classifier"
   ]
  },
  {
   "cell_type": "code",
   "execution_count": 3,
   "metadata": {
    "collapsed": true
   },
   "outputs": [],
   "source": [
    "#This function takes the training dataset and C as parameter and returns the trained classifier.\n",
    "\n",
    "def classify_train(train_data,c=None):\n",
    "    train_x = train_data[:,:-1]\n",
    "    train_y = train_data[:,-1]\n",
    "    if c is not None:\n",
    "        clf = SVC(kernel='linear', C = c)\n",
    "    else:\n",
    "        clf = SVC(kernel=\"linear\")\n",
    "    clf.fit(train_x, train_y)\n",
    "    return clf"
   ]
  },
  {
   "cell_type": "markdown",
   "metadata": {},
   "source": [
    "## Prediction"
   ]
  },
  {
   "cell_type": "code",
   "execution_count": 4,
   "metadata": {
    "collapsed": true
   },
   "outputs": [],
   "source": [
    "#This function takes the dataset and the trained classifier to return the prediction obtained.\n",
    "\n",
    "def predict(data,clf):\n",
    "\n",
    "    data_x = data[:,:-1]\n",
    "    data_y = data[:,-1]\n",
    "    predicted_y = clf.predict(data_x)\n",
    "    \n",
    "    return predicted_y"
   ]
  },
  {
   "cell_type": "markdown",
   "metadata": {},
   "source": [
    "# MNIST"
   ]
  },
  {
   "cell_type": "code",
   "execution_count": 5,
   "metadata": {
    "collapsed": false
   },
   "outputs": [],
   "source": [
    "mnist_train, mnist_val, mnist_test = load_dataset('mnist')\n",
    "# print(mnist_test[0, :])"
   ]
  },
  {
   "cell_type": "markdown",
   "metadata": {},
   "source": [
    "### Training on different number of examples"
   ]
  },
  {
   "cell_type": "code",
   "execution_count": null,
   "metadata": {
    "collapsed": false
   },
   "outputs": [],
   "source": [
    "iterations = [100,200,500,1000,2000,5000,10000]\n",
    "val_error_rates = []\n",
    "train_error_rates =[]\n",
    "classifiers = []\n",
    "train_y = mnist_train[:,-1]\n",
    "val_y = mnist_val[:,-1]\n",
    "\n",
    "for entry in iterations:\n",
    "    clf = classify_train(mnist_train[:entry,:])\n",
    "\n",
    "    #train accuracy\n",
    "    train_predicted_label = predict(mnist_train, clf)\n",
    "    train_accuracy =  len(list(filter(lambda y: y, train_y == train_predicted_label)))/float(len(train_y))\n",
    "    train_error_rates.append(1-train_accuracy)\n",
    "    \n",
    "\n",
    "    #validation accuracy\n",
    "    val_predicted_label = predict(mnist_val, clf)\n",
    "    val_accuracy = len(list(filter(lambda y: y, val_y == val_predicted_label)))/float(len(val_y))\n",
    "    val_error_rates.append(1-val_accuracy)\n",
    "    classifiers.append(clf)"
   ]
  },
  {
   "cell_type": "markdown",
   "metadata": {},
   "source": [
    "### Error Plots"
   ]
  },
  {
   "cell_type": "code",
   "execution_count": null,
   "metadata": {
    "collapsed": false
   },
   "outputs": [],
   "source": [
    "MNIST_fig = plt.figure()\n",
    "plt.plot(iterations, list(map(lambda x:x*100,train_error_rates)),'bo-')\n",
    "plt.plot(iterations, list(map(lambda x:x*100,val_error_rates)),'ro-')\n",
    "plt.legend([\"Training Error\",\"Validation Error\"], loc='upper right')\n",
    "plt.xlabel(\"No. of Training Examples\")\n",
    "plt.ylabel(\"Error Rate (in %)\")\n",
    "plt.title(\"MNIST No. of Training Examples Vs Error Rates\")\n",
    "plt.axis([0, 10500,0,100])\n",
    "plt.show()\n",
    "MNIST_fig.savefig(\"MNIST_Training_Examples.png\")"
   ]
  },
  {
   "cell_type": "markdown",
   "metadata": {},
   "source": [
    "### Finding the best C"
   ]
  },
  {
   "cell_type": "code",
   "execution_count": null,
   "metadata": {
    "collapsed": false
   },
   "outputs": [],
   "source": [
    "error_rates = []\n",
    "classifiers = []\n",
    "accuracies = []\n",
    "# c_values = [1e-9,1e-8,1e-7,1e-6,1e-5,1e-4,1e-3,1e-2,1e-1] #best for 1e-6\n",
    "#Accuracies : [0.6626, 0.8849, 0.9155, 0.9234, 0.9115, 0.904, 0.904, 0.904, 0.904]\n",
    "\n",
    "# c_values = [2e-7,4e-7,6e-7,8e-6,2e-6,4e-6,6e-6,8e-6] #best for 6e-7\n",
    "#accuracies = [0.9193, 0.9208, 0.9222, 0.9122, 0.9193, 0.9142, 0.9133, 0.9122] \n",
    "\n",
    "\n",
    "for c in c_values:\n",
    "    clf = classify_train(mnist_train[:10000,:],c)\n",
    "\n",
    "    #validation accuracy\n",
    "    \n",
    "    val_predicted_label = predict(mnist_val, clf)\n",
    "    val_y = mnist_val[:,-1]\n",
    "    val_accuracy = len(list(filter(lambda y: y, val_y == val_predicted_label)))/float(len(val_y))\n",
    "    error_rates.append(1-val_accuracy)\n",
    "    accuracies.append(val_accuracy)\n",
    "    classifiers.append(clf)\n",
    "print(accuracies)\n",
    "    "
   ]
  },
  {
   "cell_type": "code",
   "execution_count": null,
   "metadata": {
    "collapsed": false
   },
   "outputs": [],
   "source": [
    "# from sklearn.model_selection import GridSearchCV\n",
    "# from time import time\n",
    "\n",
    "# # Utility function to report best scores\n",
    "# def report(results, n_top=3):\n",
    "#     for i in range(1, n_top + 1):\n",
    "#         candidates = np.flatnonzero(results['rank_test_score'] == i)\n",
    "#         for candidate in candidates:\n",
    "#             print(\"Model with rank: {0}\".format(i))\n",
    "#             print(\"Mean validation score: {0:.3f} (std: {1:.3f})\".format(\n",
    "#                   results['mean_test_score'][candidate],\n",
    "#                   results['std_test_score'][candidate]))\n",
    "#             print(\"Parameters: {0}\".format(results['params'][candidate]))\n",
    "#             print(\"\")\n",
    "            \n",
    "# train_x = mnist_train[:2000,:-1]\n",
    "# train_y = mnist_train[:2000,-1]\n",
    "# param_grid = [\n",
    "#   {'C': [1e-1, 1e-2, 1e-3, 1e0], 'kernel': ['linear']},\n",
    "#   {'C': [1e-1, 1e-2, 1e-3, 1e0], 'gamma': [0.001, 0.0001], 'kernel': ['rbf']},\n",
    "#  ]\n",
    "# clf = SVC()\n",
    "# grid_search = GridSearchCV(clf, param_grid=param_grid)\n",
    "# start = time()\n",
    "# grid_search.fit(train_x, train_y)\n",
    "\n",
    "# print(\"GridSearchCV took %.2f seconds for %d candidate parameter settings.\"\n",
    "#       % (time() - start, len(grid_search.cv_results_['params'])))\n",
    "# report(grid_search.cv_results_)"
   ]
  },
  {
   "cell_type": "code",
   "execution_count": 6,
   "metadata": {
    "collapsed": false
   },
   "outputs": [
    {
     "name": "stdout",
     "output_type": "stream",
     "text": [
      "[LibSVM]0.9461\n"
     ]
    }
   ],
   "source": [
    "train_x = mnist_train[:,:-1]\n",
    "train_y = mnist_train[:,-1]\n",
    "clf = SVC(C=6e-7, kernel='linear', verbose=True)\n",
    "clf.fit(train_x,train_y)\n",
    "val_x = mnist_val[:,:-1]\n",
    "val_y = mnist_val[:,-1]\n",
    "val_predicted_label = clf.predict(val_x)\n",
    "val_accuracy = len(list(filter(lambda y: y, val_y == val_predicted_label)))/float(len(val_y))\n",
    "print(val_accuracy)"
   ]
  },
  {
   "cell_type": "markdown",
   "metadata": {},
   "source": [
    "### For the final run let's combine train and validation and train the classifier on the whole data"
   ]
  },
  {
   "cell_type": "code",
   "execution_count": 6,
   "metadata": {
    "collapsed": false
   },
   "outputs": [],
   "source": [
    "train_x = np.vstack([mnist_train[:,:-1],mnist_val[:,:-1]])\n",
    "train_y = np.concatenate([mnist_train[:,-1],mnist_val[:,-1]])"
   ]
  },
  {
   "cell_type": "code",
   "execution_count": 8,
   "metadata": {
    "collapsed": false
   },
   "outputs": [
    {
     "name": "stdout",
     "output_type": "stream",
     "text": [
      "[LibSVM]"
     ]
    },
    {
     "data": {
      "text/plain": [
       "SVC(C=6e-07, cache_size=200, class_weight=None, coef0=0.0,\n",
       "  decision_function_shape=None, degree=3, gamma='auto', kernel='linear',\n",
       "  max_iter=-1, probability=False, random_state=None, shrinking=True,\n",
       "  tol=0.001, verbose=True)"
      ]
     },
     "execution_count": 8,
     "metadata": {},
     "output_type": "execute_result"
    }
   ],
   "source": [
    "#Using the parameters that we found to be the best\n",
    "clf = SVC(C=6e-7, kernel='linear', verbose=True)\n",
    "clf.fit(train_x,train_y)"
   ]
  },
  {
   "cell_type": "code",
   "execution_count": 9,
   "metadata": {
    "collapsed": false
   },
   "outputs": [],
   "source": [
    "# selected_clf = classifiers[np.argmin(error_rates)]\n",
    "\n",
    "predicted_label = clf.predict(mnist_test)\n"
   ]
  },
  {
   "cell_type": "code",
   "execution_count": 10,
   "metadata": {
    "collapsed": false
   },
   "outputs": [],
   "source": [
    "output = pd.DataFrame(predicted_label)\n",
    "output.columns = [\"Category\"]\n",
    "output.index.names = [\"Id\"]\n",
    "output.to_csv(path_or_buf=\"submission_mnist.csv\", sep=\",\")"
   ]
  },
  {
   "cell_type": "markdown",
   "metadata": {},
   "source": [
    "## Experiments with HOG and SIFT to improve kaggle score"
   ]
  },
  {
   "cell_type": "code",
   "execution_count": 21,
   "metadata": {
    "collapsed": false
   },
   "outputs": [],
   "source": [
    "train_ims = np.reshape(train_x,[60000,28,28])\n",
    "test_ims = np.reshape(mnist_test,[10000,28,28])"
   ]
  },
  {
   "cell_type": "code",
   "execution_count": 31,
   "metadata": {
    "collapsed": false
   },
   "outputs": [
    {
     "name": "stdout",
     "output_type": "stream",
     "text": [
      "5000: (5001, 392)\n",
      "10000: (10001, 392)\n",
      "15000: (15001, 392)\n",
      "20000: (20001, 392)\n",
      "25000: (25001, 392)\n",
      "30000: (30001, 392)\n",
      "35000: (35001, 392)\n",
      "40000: (40001, 392)\n",
      "45000: (45001, 392)\n",
      "50000: (50001, 392)\n",
      "55000: (55001, 392)\n"
     ]
    },
    {
     "data": {
      "text/plain": [
       "(60000, 392)"
      ]
     },
     "execution_count": 31,
     "metadata": {},
     "output_type": "execute_result"
    }
   ],
   "source": [
    "train_features=hog(train_ims[0,:,:], orientations=8, pixels_per_cell=(4, 4),cells_per_block=(1, 1))\n",
    "for i in range(1,60000):\n",
    "    train_features = np.vstack([train_features,hog(train_ims[i,:,:], orientations=8, pixels_per_cell=(4, 4),cells_per_block=(1, 1))])\n",
    "    if i%5000==0:\n",
    "        print(i,end=\": \")\n",
    "        print(train_features.shape)\n",
    "train_features.shape\n"
   ]
  },
  {
   "cell_type": "code",
   "execution_count": null,
   "metadata": {
    "collapsed": false
   },
   "outputs": [
    {
     "data": {
      "text/plain": [
       "(10000, 392)"
      ]
     },
     "execution_count": 32,
     "metadata": {},
     "output_type": "execute_result"
    }
   ],
   "source": [
    "test_features=hog(test_ims[0,:,:], orientations=8, pixels_per_cell=(4, 4),cells_per_block=(1, 1))\n",
    "for i in range(1,10000):\n",
    "    test_features = np.vstack([test_features,hog(test_ims[i,:,:],orientations=8, pixels_per_cell=(4, 4),cells_per_block=(1, 1))])\n",
    "test_features.shape"
   ]
  },
  {
   "cell_type": "code",
   "execution_count": null,
   "metadata": {
    "collapsed": false
   },
   "outputs": [],
   "source": [
    "clf = SVC(kernel='linear')\n",
    "scores = cross_val_score(clf, train_features, train_y, cv=5)\n",
    "print(scores)"
   ]
  },
  {
   "cell_type": "code",
   "execution_count": null,
   "metadata": {
    "collapsed": false
   },
   "outputs": [],
   "source": [
    "clf.fit(train_features, train_y)"
   ]
  },
  {
   "cell_type": "code",
   "execution_count": null,
   "metadata": {
    "collapsed": false
   },
   "outputs": [],
   "source": [
    "predicted_label = clf.predict(test_features)\n",
    "output = pd.DataFrame(predicted_label)\n",
    "output.columns = [\"Category\"]\n",
    "output.index.names = [\"Id\"]\n",
    "output.to_csv(path_or_buf=\"submission_mnist.csv\", sep=\",\")"
   ]
  },
  {
   "cell_type": "markdown",
   "metadata": {
    "collapsed": true
   },
   "source": [
    "# CIFAR"
   ]
  },
  {
   "cell_type": "code",
   "execution_count": 6,
   "metadata": {
    "collapsed": false
   },
   "outputs": [],
   "source": [
    "cifar_train, cifar_val, cifar_test = load_dataset('cifar')"
   ]
  },
  {
   "cell_type": "markdown",
   "metadata": {},
   "source": [
    "### Training on different number of examples"
   ]
  },
  {
   "cell_type": "code",
   "execution_count": 7,
   "metadata": {
    "collapsed": false
   },
   "outputs": [
    {
     "name": "stdout",
     "output_type": "stream",
     "text": [
      "done : 100\n",
      "done : 200\n",
      "done : 500\n",
      "done : 1000\n",
      "done : 2000\n",
      "done : 5000\n"
     ]
    }
   ],
   "source": [
    "iterations = [100,200,500,1000,2000,5000]\n",
    "train_error_rates = []\n",
    "val_error_rates = []\n",
    "classifiers = []\n",
    "train_y = cifar_train[:,-1]\n",
    "val_y = cifar_val[:,-1]\n",
    "for entry in iterations:\n",
    "    clf = classify_train(cifar_train[:entry,:])\n",
    "\n",
    "    #train accuracy\n",
    "    train_predicted_label = predict(cifar_train, clf)\n",
    "    train_accuracy = len(list(filter(lambda y: y, train_y == train_predicted_label)))/float(len(train_y))\n",
    "    train_error_rates.append(1-train_accuracy)\n",
    "\n",
    "    #validation accuracy\n",
    "    val_predicted_label = predict(cifar_val, clf)\n",
    "    val_accuracy = len(list(filter(lambda y: y, val_y == val_predicted_label)))/float(len(val_y))\n",
    "    val_error_rates.append(1-val_accuracy)\n",
    "    print(\"done : \"+ str(entry))\n",
    "    classifiers.append(clf)"
   ]
  },
  {
   "cell_type": "markdown",
   "metadata": {},
   "source": [
    "### Error plots"
   ]
  },
  {
   "cell_type": "code",
   "execution_count": 8,
   "metadata": {
    "collapsed": false
   },
   "outputs": [
    {
     "data": {
      "image/png": "[encoded data removed]",
      "text/plain": [
       "<matplotlib.figure.Figure at 0x11276a390>"
      ]
     },
     "metadata": {},
     "output_type": "display_data"
    }
   ],
   "source": [
    "CIFAR_fig = plt.figure()\n",
    "plt.plot(iterations, list(map(lambda x:x*100,train_error_rates)),'bo-')\n",
    "plt.plot(iterations, list(map(lambda x:x*100,val_error_rates)),'ro-')\n",
    "plt.legend([\"Training Error\",\"Validation Error\"], loc='upper right')\n",
    "plt.xlabel(\"No. of Training Examples\")\n",
    "plt.ylabel(\"Error Rate (in %)\")\n",
    "plt.title(\"CIFAR No. of Training Examples Vs Error Rates\")\n",
    "plt.axis([0, 5500,0,100])\n",
    "plt.show()\n",
    "CIFAR_fig.savefig(\"CIFAR_Training_Examples.png\")"
   ]
  },
  {
   "cell_type": "markdown",
   "metadata": {},
   "source": [
    "### Finding the best C"
   ]
  },
  {
   "cell_type": "code",
   "execution_count": null,
   "metadata": {
    "collapsed": false
   },
   "outputs": [],
   "source": [
    "error_rates = []\n",
    "classifiers = []\n",
    "c_values = [1e-4,1e-3,1e-2,1e-1,1e0,1e1,1e2,1e3]\n",
    "for c in c_values:\n",
    "    clf = classify_train(cifar_train[:1000,:],c)\n",
    "\n",
    "    #validation accuracy\n",
    "    val_predicted_label = predict(cifar_val, clf)\n",
    "    val_y = cifar_val[:,-1]\n",
    "    val_accuracy = len(list(filter(lambda y: y, val_y != val_predicted_label)))/float(len(val_y))\n",
    "    error_rates.append(1-val_accuracy)\n",
    "    classifiers.append(clf)\n",
    "print(error_rates)"
   ]
  },
  {
   "cell_type": "code",
   "execution_count": null,
   "metadata": {
    "collapsed": true
   },
   "outputs": [],
   "source": [
    "train_x = cifar_train[:,:-1]\n",
    "train_y = cifar_train[:,-1]\n",
    "clf = SVC(kernel='poly', C =1e-3, degree=2)\n",
    "clf.fit(train_x,train_y)\n",
    "val_x = cifar_val[:,:-1]\n",
    "val_y = cifar_val[:,-1]\n",
    "val_predicted_label = clf.predict(val_x)\n",
    "val_accuracy = len(list(filter(lambda y: y, val_y == val_predicted_label)))/float(len(val_y))\n",
    "print(val_accuracy)"
   ]
  },
  {
   "cell_type": "code",
   "execution_count": null,
   "metadata": {
    "collapsed": true
   },
   "outputs": [],
   "source": [
    "train_x = cifar_train[:,:-1]\n",
    "train_y = cifar_train[:,-1]\n",
    "print(train_y.shape)"
   ]
  },
  {
   "cell_type": "code",
   "execution_count": null,
   "metadata": {
    "collapsed": true
   },
   "outputs": [],
   "source": [
    "# selected_clf = classifiers[np.argmin(error_rates)]\n",
    "predicted_label = clf.predict(cifar_test)\n",
    "predicted_label"
   ]
  },
  {
   "cell_type": "markdown",
   "metadata": {},
   "source": [
    "# Spam - Ham"
   ]
  },
  {
   "cell_type": "code",
   "execution_count": 11,
   "metadata": {
    "collapsed": false
   },
   "outputs": [],
   "source": [
    "spam_train, spam_val, spam_test = load_dataset('spam')"
   ]
  },
  {
   "cell_type": "code",
   "execution_count": 12,
   "metadata": {
    "collapsed": false
   },
   "outputs": [
    {
     "data": {
      "text/plain": [
       "4137"
      ]
     },
     "execution_count": 12,
     "metadata": {},
     "output_type": "execute_result"
    }
   ],
   "source": [
    "train_x,train_y = spam_train\n",
    "val_x,val_y= spam_val\n",
    "len(train_x)"
   ]
  },
  {
   "cell_type": "markdown",
   "metadata": {},
   "source": [
    "### Training on different number of examples"
   ]
  },
  {
   "cell_type": "code",
   "execution_count": null,
   "metadata": {
    "collapsed": false
   },
   "outputs": [],
   "source": [
    "iterations = [100,200,500,1000,2000]\n",
    "\n",
    "val_error_rates = []\n",
    "train_error_rates =[]\n",
    "\n",
    "classifiers = []\n",
    "\n",
    "for entry in iterations:\n",
    "    clf = SVC(kernel=\"linear\")\n",
    "    clf.fit(train_x[:entry,:],train_y[:entry])\n",
    "    #train accuracy\n",
    "    train_predicted_label = clf.predict(train_x)\n",
    "    train_accuracy =  len(list(filter(lambda y: y, train_y == train_predicted_label)))/float(len(train_y))\n",
    "    train_error_rates.append(1-train_accuracy)\n",
    "    \n",
    "\n",
    "    #validation accuracy\n",
    "    val_predicted_label = clf.predict(val_x)\n",
    "    val_accuracy = len(list(filter(lambda y: y, val_y == val_predicted_label)))/float(len(val_y))\n",
    "    val_error_rates.append(1-val_accuracy)\n",
    "    classifiers.append(clf)"
   ]
  },
  {
   "cell_type": "markdown",
   "metadata": {},
   "source": [
    "### Error plot"
   ]
  },
  {
   "cell_type": "code",
   "execution_count": null,
   "metadata": {
    "collapsed": false
   },
   "outputs": [],
   "source": [
    "Spam_fig = plt.figure()\n",
    "plt.plot(iterations, list(map(lambda x:x*100,train_error_rates)),'bo-')\n",
    "plt.plot(iterations, list(map(lambda x:x*100,val_error_rates)),'ro-')\n",
    "plt.legend([\"Training Error\",\"Validation Error\"], loc='upper right')\n",
    "plt.xlabel(\"No. of Training Examples\")\n",
    "plt.ylabel(\"Error Rate (in %)\")\n",
    "plt.title(\"SPAM-HAM No. of Training Examples Vs Error Rates\")\n",
    "plt.axis([0, 2500,0,100])\n",
    "plt.show()\n",
    "Spam_fig.savefig(\"SPAM_Training_Examples.png\")"
   ]
  },
  {
   "cell_type": "code",
   "execution_count": null,
   "metadata": {
    "collapsed": false
   },
   "outputs": [],
   "source": [
    "# clf = SVC(kernel='rbf',gamma=0.8e-2,C=55)\n",
    "# clf.fit(train_x,train_y)\n",
    "# val_predicted_label = clf.predict(val_x)\n",
    "# val_accuracy = len(list(filter(lambda y: y, val_y == val_predicted_label)))/float(len(val_y))\n",
    "# print(val_accuracy)"
   ]
  },
  {
   "cell_type": "code",
   "execution_count": null,
   "metadata": {
    "collapsed": false
   },
   "outputs": [],
   "source": [
    "clf = SVC(kernel='linear',C=55)\n",
    "clf.fit(train_x,train_y)\n",
    "val_predicted_label = clf.predict(val_x)\n",
    "val_accuracy = len(list(filter(lambda y: y, val_y == val_predicted_label)))/float(len(val_y))\n",
    "print(val_accuracy)"
   ]
  },
  {
   "cell_type": "markdown",
   "metadata": {},
   "source": [
    "### K fold Cross Validation"
   ]
  },
  {
   "cell_type": "code",
   "execution_count": null,
   "metadata": {
    "collapsed": false
   },
   "outputs": [],
   "source": [
    "train_x = np.vstack([train_x,val_x])\n",
    "train_y = np.concatenate([train_y,val_y])\n",
    "C_values = list(range(10,200,10))\n",
    "scores = []\n",
    "for c in C_values: \n",
    "    clf = SVC(kernel='linear',C=c)\n",
    "    score = cross_val_score(clf, train_x, train_y, cv=5)\n",
    "    avg_score = np.mean(score)\n",
    "    scores.append(avg_score)\n",
    "    print(c,end=\": \")\n",
    "    print(avg_score)\n",
    "    \n",
    "    "
   ]
  },
  {
   "cell_type": "markdown",
   "metadata": {},
   "source": [
    "### Trying TfIdf for better score"
   ]
  },
  {
   "cell_type": "code",
   "execution_count": 13,
   "metadata": {
    "collapsed": false
   },
   "outputs": [],
   "source": [
    "spam_dir = \"hw01_data/spam/spam/\"\n",
    "ham_dir =\"hw01_data/spam/ham/\"\n",
    "test_dir = \"hw01_data/spam/test/\"\n",
    "spam_files = filter(lambda x:x.endswith('.txt') ,os.listdir(spam_dir))\n",
    "ham_files = filter(lambda x:x.endswith('.txt') ,os.listdir(ham_dir))\n",
    "test_files_len = len(list(filter(lambda x:x.endswith('.txt'),os.listdir(test_dir))))"
   ]
  },
  {
   "cell_type": "code",
   "execution_count": 14,
   "metadata": {
    "collapsed": false
   },
   "outputs": [],
   "source": [
    "df = pd.DataFrame(columns=(\"text\",\"label\")) # create an empty dataframe\n",
    "count=0\n",
    "for fn in spam_files:\n",
    "    fn=spam_dir+fn\n",
    "    with open(fn,\"r\",encoding='utf-8', errors='ignore') as spam:\n",
    "        df.loc[count] = [spam.read(),1]\n",
    "        count+=1\n",
    "        \n",
    "for fn in ham_files:\n",
    "    fn=ham_dir+fn\n",
    "    with open(fn,\"r\",encoding='utf-8', errors='ignore') as ham:\n",
    "        df.loc[count] = [ham.read(),0]\n",
    "        count+=1\n",
    "df = df.sample(frac=1).reset_index(drop=True) # shuffle the dataframe"
   ]
  },
  {
   "cell_type": "code",
   "execution_count": 15,
   "metadata": {
    "collapsed": false
   },
   "outputs": [],
   "source": [
    "# df_val = df.ix[:1000]\n",
    "# df_train = df.ix[1001:]"
   ]
  },
  {
   "cell_type": "code",
   "execution_count": 16,
   "metadata": {
    "collapsed": false
   },
   "outputs": [],
   "source": [
    "#do the same thing for test dataset\n",
    "df_test = pd.DataFrame(columns=(\"text\",\"label\"))\n",
    "count=0\n",
    "for fn in range(test_files_len):\n",
    "    fn=test_dir+str(fn)+'.txt'\n",
    "    with open(fn,\"r\",encoding='utf-8', errors='ignore') as test:\n",
    "        df_test.loc[count] = [test.read(),\"UNK\"]\n",
    "        count+=1"
   ]
  },
  {
   "cell_type": "code",
   "execution_count": 17,
   "metadata": {
    "collapsed": false
   },
   "outputs": [],
   "source": [
    "#Tfidf\n",
    "df_train =df\n",
    "vectorizer = TfidfVectorizer(sublinear_tf=True, stop_words='english')\n",
    "X_train = vectorizer.fit_transform(df_train.text)\n",
    "# X_val = vectorizer.transform(df_val.text)\n",
    "X_test = vectorizer.transform(df_test.text)\n"
   ]
  },
  {
   "cell_type": "code",
   "execution_count": 18,
   "metadata": {
    "collapsed": false
   },
   "outputs": [
    {
     "name": "stdout",
     "output_type": "stream",
     "text": [
      "[ 0.99130435  0.99130435  0.98839458  0.98839458  0.98646035]\n"
     ]
    },
    {
     "data": {
      "text/plain": [
       "SVC(C=300, cache_size=200, class_weight=None, coef0=0.0,\n",
       "  decision_function_shape=None, degree=3, gamma=0.002, kernel='rbf',\n",
       "  max_iter=-1, probability=False, random_state=None, shrinking=True,\n",
       "  tol=0.001, verbose=False)"
      ]
     },
     "execution_count": 18,
     "metadata": {},
     "output_type": "execute_result"
    }
   ],
   "source": [
    "#classifier\n",
    "\n",
    "# clf = SVC(kernel='linear')\n",
    "clf = SVC(kernel='rbf',gamma=0.002,C=300)\n",
    "scores = cross_val_score(clf, X_train, df_train.label, cv=5)\n",
    "print(scores)\n",
    "clf.fit(X_train,df_train.label)\n",
    "# val_predicted_label = clf.predict(X_val)\n",
    "# val_accuracy = len(list(filter(lambda y: y, df_val.label == val_predicted_label)))/float(len(df_val))\n",
    "# print(val_accuracy)"
   ]
  },
  {
   "cell_type": "code",
   "execution_count": 19,
   "metadata": {
    "collapsed": false
   },
   "outputs": [],
   "source": [
    "predicted_label = clf.predict(X_test)\n",
    "output = pd.DataFrame(predicted_label)\n",
    "output.columns = [\"Category\"]\n",
    "output.index.names = [\"Id\"]\n",
    "output.to_csv(path_or_buf=\"submission_spam.csv\", sep=\",\")"
   ]
  },
  {
   "cell_type": "markdown",
   "metadata": {},
   "source": [
    "### Checking the frequency of words to decide optimum features to be used in featurizer.py"
   ]
  },
  {
   "cell_type": "code",
   "execution_count": null,
   "metadata": {
    "collapsed": false
   },
   "outputs": [],
   "source": [
    "# def tokenizer(text):\n",
    "#     return re.split(\" |\\n\",text)\n",
    "# df_spam = df_train[df_train.label==0]"
   ]
  },
  {
   "cell_type": "code",
   "execution_count": null,
   "metadata": {
    "collapsed": false
   },
   "outputs": [],
   "source": [
    "# df_spam=df_spam.reset_index()"
   ]
  },
  {
   "cell_type": "code",
   "execution_count": null,
   "metadata": {
    "collapsed": false
   },
   "outputs": [],
   "source": [
    "# corpus ={}\n",
    "# for i in range(len(df_spam)):\n",
    "#     for token in tokenizer(df_spam.text[i]):\n",
    "#         corpus[token] = corpus.get(token,0)+1"
   ]
  },
  {
   "cell_type": "code",
   "execution_count": null,
   "metadata": {
    "collapsed": false
   },
   "outputs": [],
   "source": [
    "# import operator\n",
    "# sorted(corpus.items(), key=operator.itemgetter(1),reverse=True)"
   ]
  },
  {
   "cell_type": "code",
   "execution_count": null,
   "metadata": {
    "collapsed": true
   },
   "outputs": [],
   "source": []
  }
 ],
 "metadata": {
  "anaconda-cloud": {},
  "kernelspec": {
   "display_name": "Python 3",
   "language": "python",
   "name": "python3"
  },
  "language_info": {
   "codemirror_mode": {
    "name": "ipython",
    "version": 3
   },
   "file_extension": ".py",
   "mimetype": "text/x-python",
   "name": "python",
   "nbconvert_exporter": "python",
   "pygments_lexer": "ipython3",
   "version": "3.6.0"
  }
 },
 "nbformat": 4,
 "nbformat_minor": 1
}
